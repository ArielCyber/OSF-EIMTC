{
 "cells": [
  {
   "cell_type": "code",
   "execution_count": null,
   "metadata": {},
   "outputs": [],
   "source": [
    "from EIMTC.extractor import Extractor\n",
    "from EIMTC.plugins.protocol_header_fields import ProtocolHeaderFields\n",
    "from EIMTC.plugins.stnn import STNN\n",
    "from EIMTC.plugins.n_pkts_byte_freq import NPacketsByteFrequency\n",
    "from EIMTC.plugins.n_bytes import NBytes\n",
    "from EIMTC.plugins.pkt_rel_time import PacketRelativeTime\n",
    "from EIMTC.plugins.clump_flows import Clump_Flow\n",
    "from EIMTC.plugins.res_req_diff_time import ResReqDiffTime\n",
    "import glob\n",
    "from pathlib import Path"
   ]
  },
  {
   "cell_type": "code",
   "execution_count": null,
   "metadata": {},
   "outputs": [],
   "source": [
    "files = glob.glob('./data/pcaps/**/*.pcap')\n",
    "files"
   ]
  },
  {
   "cell_type": "code",
   "execution_count": null,
   "metadata": {},
   "outputs": [],
   "source": [
    "ext = Extractor(\n",
    "    output_dirpath='./data/',\n",
    "    custom_plugin_package=[\n",
    "        ProtocolHeaderFields(n_packets=32), # Lopez\n",
    "        NBytes(n=784), # wang\n",
    "        STNN(n_packets=32),\n",
    "        NPacketsByteFrequency(n_first_packets=6),\n",
    "        PacketRelativeTime(),\n",
    "        ResReqDiffTime(),\n",
    "        Clump_Flow(),\n",
    "    ],\n",
    "    TLS=True\n",
    ")\n",
    "ext"
   ]
  },
  {
   "attachments": {},
   "cell_type": "markdown",
   "metadata": {},
   "source": [
    "### Note:\n",
    "The app/service labels were extracted via the SNI value of each TLS flow and later mapped into a specific domain/application name.\n",
    "\n",
    "The extracted values are in the file2label2.csv file which is compressed inside the file2labels.7z file. Please extract the CSV file before executing the next cells."
   ]
  },
  {
   "cell_type": "code",
   "execution_count": null,
   "metadata": {},
   "outputs": [],
   "source": [
    "import pandas as pd\n",
    "ddf = pd.read_csv('./file2labels.csv')"
   ]
  },
  {
   "cell_type": "code",
   "execution_count": null,
   "metadata": {},
   "outputs": [],
   "source": [
    "def labels_from_name(name):\n",
    "    tokens = name.lower().split('_')\n",
    "    os_label = tokens[0]\n",
    "    browser_label = tokens[2]\n",
    "\n",
    "    return expand_os_label(os_label), expand_browser_label(browser_label)\n",
    "\n",
    "\n",
    "def expand_os_label(os_label):\n",
    "    min2expand_map = {\n",
    "        'l': 'Linux',\n",
    "        'w': 'Windows',\n",
    "        'd': 'OSX'\n",
    "    }\n",
    "\n",
    "    if os_label in min2expand_map:\n",
    "        return min2expand_map[os_label]\n",
    "    else:\n",
    "        return 'Unknown'\n",
    "\n",
    "\n",
    "def expand_browser_label(browser_label):\n",
    "    min2expand_map = {\n",
    "        'chrome': 'Chrome',\n",
    "        'ff': 'Firefox',\n",
    "        'firefox': 'Firefox',\n",
    "        'ie': 'IExplorer',\n",
    "        'safari': 'Safari'\n",
    "    }\n",
    "\n",
    "    if browser_label in min2expand_map:\n",
    "        return min2expand_map[browser_label]\n",
    "    else:\n",
    "        return 'Unknown'\n",
    "\n",
    "def expand_application_label(file_name):\n",
    "    app = ddf[ddf['filename'] == file_name]['mapped_sni'].iloc[0]\n",
    "    return app\n",
    "    \n",
    "\n",
    "# tests\n",
    "assert expand_os_label('l') == 'Linux'\n",
    "assert expand_os_label('w') == 'Windows'\n",
    "assert expand_os_label('d') == 'OSX'\n",
    "assert expand_os_label('wtf') == 'Unknown'\n",
    "\n",
    "assert expand_browser_label('ff') == 'Firefox'\n",
    "assert expand_browser_label('firefox') == 'Firefox'\n",
    "assert expand_browser_label('wtf') == 'Unknown'\n",
    "assert expand_browser_label('ie') == 'IExplorer'\n",
    "\n",
    "assert expand_application_label('L_cyber_ff_09-08__18_05_04.pcap.TCP_10-0-0-9_48478_216-58-210-14_443.pcap') == 'google'\n",
    "assert expand_application_label('d_hi_safari_Ai_Se_Eu_Te_Pego_16_15_38_144p.pcap.TCP_10-0-0-11_49607_212-179-17-140_443.pcap') == 'youtube'\n",
    "assert expand_application_label('d_hi_safari_Ai_Se_Eu_Te_Pego_16_18_43_240p.pcap.TCP_10-0-0-11_49659_212-179-17-140_443.pcap') == 'youtube'\n",
    "\n",
    "\n",
    "assert labels_from_name('L_cyber_ff_09-08__18_05_04.pcap.TCP_10-0-0-9_48478_216-58-210-14_443.pcap') == ('Linux', 'Firefox')\n",
    "assert labels_from_name('l_cyber_firefox') == ('Linux', 'Firefox')\n",
    "assert labels_from_name('W_cybfdser_chrome') == ('Windows', 'Chrome')\n",
    "assert labels_from_name('g_cybfdser_come') == ('Unknown', 'Unknown')\n"
   ]
  },
  {
   "cell_type": "code",
   "execution_count": null,
   "metadata": {},
   "outputs": [],
   "source": [
    "def custom_filepath_based_labelling(filepath):\n",
    "    '''\n",
    "    returns: dictionary of label's name/type as key and the label as value.\n",
    "    '''\n",
    "    filename = Path(filepath).stem\n",
    "    labels = labels_from_name(filename)\n",
    "    app_label = expand_application_label(filename+'.pcap')\n",
    "    labels = labels+(app_label,)\n",
    "    label_names = ['os', 'browser','application']\n",
    "    return dict(\n",
    "        zip(label_names, labels)\n",
    "    )\n",
    "\n",
    "assert custom_filepath_based_labelling('D:/DISTILLER/BOA2016/data/filtered_raw_dataset_temu2016/d_hi_safari_Ai_Se_Eu_Te_Pego_16_15_38_144p.pcap.TCP_10-0-0-11_49607_212-179-17-140_443.pcap') == {'os': 'OSX', 'browser': 'Safari', 'application': 'youtube'}"
   ]
  },
  {
   "cell_type": "code",
   "execution_count": null,
   "metadata": {},
   "outputs": [],
   "source": [
    "ext.extract_many(files, labelling_method=custom_filepath_based_labelling)"
   ]
  }
 ],
 "metadata": {
  "interpreter": {
   "hash": "3edd0662b2d180a75d988edaa86084869b12c31e5a254bfd8ee578ed215f9587"
  },
  "kernelspec": {
   "display_name": "Python 3.6.7 64-bit",
   "language": "python",
   "name": "python3"
  },
  "language_info": {
   "codemirror_mode": {
    "name": "ipython",
    "version": 3
   },
   "file_extension": ".py",
   "mimetype": "text/x-python",
   "name": "python",
   "nbconvert_exporter": "python",
   "pygments_lexer": "ipython3",
   "version": "3.6.7"
  },
  "orig_nbformat": 4
 },
 "nbformat": 4,
 "nbformat_minor": 2
}
