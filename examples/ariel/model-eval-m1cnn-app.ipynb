{
 "cells": [
  {
   "cell_type": "code",
   "execution_count": 5,
   "metadata": {},
   "outputs": [],
   "source": [
    "import pandas as pd\n",
    "import numpy as np\n",
    "from EIMTC.preprocessing import OneHotEncoderEIMTC, M1CNNPreprocessing\n",
    "from EIMTC.selection import train_test_split\n",
    "from EIMTC.metrics import classification_report\n",
    "from EIMTC.models import M1CNN"
   ]
  },
  {
   "cell_type": "code",
   "execution_count": 45,
   "metadata": {},
   "outputs": [
    {
     "data": {
      "text/html": [
       "<div>\n",
       "<style scoped>\n",
       "    .dataframe tbody tr th:only-of-type {\n",
       "        vertical-align: middle;\n",
       "    }\n",
       "\n",
       "    .dataframe tbody tr th {\n",
       "        vertical-align: top;\n",
       "    }\n",
       "\n",
       "    .dataframe thead th {\n",
       "        text-align: right;\n",
       "    }\n",
       "</style>\n",
       "<table border=\"1\" class=\"dataframe\">\n",
       "  <thead>\n",
       "    <tr style=\"text-align: right;\">\n",
       "      <th></th>\n",
       "      <th>udps.n_bytes</th>\n",
       "      <th>application</th>\n",
       "    </tr>\n",
       "  </thead>\n",
       "  <tbody>\n",
       "    <tr>\n",
       "      <th>0</th>\n",
       "      <td>[0.08627450980392157, 0.011764705882352941, 0....</td>\n",
       "      <td>google</td>\n",
       "    </tr>\n",
       "    <tr>\n",
       "      <th>1</th>\n",
       "      <td>[0.08627450980392157, 0.011764705882352941, 0....</td>\n",
       "      <td>facebook</td>\n",
       "    </tr>\n",
       "    <tr>\n",
       "      <th>2</th>\n",
       "      <td>[0.08627450980392157, 0.011764705882352941, 0....</td>\n",
       "      <td>youtube</td>\n",
       "    </tr>\n",
       "    <tr>\n",
       "      <th>3</th>\n",
       "      <td>[0.08627450980392157, 0.011764705882352941, 0....</td>\n",
       "      <td>twitter</td>\n",
       "    </tr>\n",
       "    <tr>\n",
       "      <th>4</th>\n",
       "      <td>[0.08627450980392157, 0.011764705882352941, 0....</td>\n",
       "      <td>unknown</td>\n",
       "    </tr>\n",
       "    <tr>\n",
       "      <th>...</th>\n",
       "      <td>...</td>\n",
       "      <td>...</td>\n",
       "    </tr>\n",
       "    <tr>\n",
       "      <th>20628</th>\n",
       "      <td>[0.08627450980392157, 0.011764705882352941, 0....</td>\n",
       "      <td>microsoft</td>\n",
       "    </tr>\n",
       "    <tr>\n",
       "      <th>20629</th>\n",
       "      <td>[0.08627450980392157, 0.011764705882352941, 0....</td>\n",
       "      <td>twitter</td>\n",
       "    </tr>\n",
       "    <tr>\n",
       "      <th>20630</th>\n",
       "      <td>[0.08627450980392157, 0.011764705882352941, 0....</td>\n",
       "      <td>google</td>\n",
       "    </tr>\n",
       "    <tr>\n",
       "      <th>20631</th>\n",
       "      <td>[0.08627450980392157, 0.011764705882352941, 0....</td>\n",
       "      <td>twitter</td>\n",
       "    </tr>\n",
       "    <tr>\n",
       "      <th>20632</th>\n",
       "      <td>[0.08627450980392157, 0.011764705882352941, 0....</td>\n",
       "      <td>twitter</td>\n",
       "    </tr>\n",
       "  </tbody>\n",
       "</table>\n",
       "<p>20633 rows × 2 columns</p>\n",
       "</div>"
      ],
      "text/plain": [
       "                                            udps.n_bytes application\n",
       "0      [0.08627450980392157, 0.011764705882352941, 0....      google\n",
       "1      [0.08627450980392157, 0.011764705882352941, 0....    facebook\n",
       "2      [0.08627450980392157, 0.011764705882352941, 0....     youtube\n",
       "3      [0.08627450980392157, 0.011764705882352941, 0....     twitter\n",
       "4      [0.08627450980392157, 0.011764705882352941, 0....     unknown\n",
       "...                                                  ...         ...\n",
       "20628  [0.08627450980392157, 0.011764705882352941, 0....   microsoft\n",
       "20629  [0.08627450980392157, 0.011764705882352941, 0....     twitter\n",
       "20630  [0.08627450980392157, 0.011764705882352941, 0....      google\n",
       "20631  [0.08627450980392157, 0.011764705882352941, 0....     twitter\n",
       "20632  [0.08627450980392157, 0.011764705882352941, 0....     twitter\n",
       "\n",
       "[20633 rows x 2 columns]"
      ]
     },
     "execution_count": 45,
     "metadata": {},
     "output_type": "execute_result"
    }
   ],
   "source": [
    "filepath = './data/out.csv'\n",
    "df = pd.read_csv(filepath, usecols=['udps.n_bytes', 'application'])\n",
    "df"
   ]
  },
  {
   "cell_type": "code",
   "execution_count": 46,
   "metadata": {},
   "outputs": [],
   "source": [
    "def preprocessing(df):\n",
    "    df.dropna(inplace=True)\n",
    "    # remove unrelated samples:\n",
    "    df.drop(df[df['application'].isin(['wireshark', 'whatsapp'])].index, inplace=True)\n",
    "    enc = OneHotEncoderEIMTC()\n",
    "    df['application_ohc'] = list(enc.fit_transform(df['application']).toarray())\n",
    "    M1CNNPreprocessing.preprocess_features(dataframe=df)\n",
    "\n",
    "    return df"
   ]
  },
  {
   "cell_type": "code",
   "execution_count": 47,
   "metadata": {},
   "outputs": [
    {
     "data": {
      "text/html": [
       "<div>\n",
       "<style scoped>\n",
       "    .dataframe tbody tr th:only-of-type {\n",
       "        vertical-align: middle;\n",
       "    }\n",
       "\n",
       "    .dataframe tbody tr th {\n",
       "        vertical-align: top;\n",
       "    }\n",
       "\n",
       "    .dataframe thead th {\n",
       "        text-align: right;\n",
       "    }\n",
       "</style>\n",
       "<table border=\"1\" class=\"dataframe\">\n",
       "  <thead>\n",
       "    <tr style=\"text-align: right;\">\n",
       "      <th></th>\n",
       "      <th>udps.n_bytes</th>\n",
       "      <th>application</th>\n",
       "      <th>application_ohc</th>\n",
       "    </tr>\n",
       "  </thead>\n",
       "  <tbody>\n",
       "    <tr>\n",
       "      <th>0</th>\n",
       "      <td>[0.08627450980392157, 0.011764705882352941, 0....</td>\n",
       "      <td>google</td>\n",
       "      <td>[0.0, 0.0, 1.0, 0.0, 0.0, 0.0, 0.0, 0.0, 0.0, ...</td>\n",
       "    </tr>\n",
       "    <tr>\n",
       "      <th>1</th>\n",
       "      <td>[0.08627450980392157, 0.011764705882352941, 0....</td>\n",
       "      <td>facebook</td>\n",
       "      <td>[0.0, 1.0, 0.0, 0.0, 0.0, 0.0, 0.0, 0.0, 0.0, ...</td>\n",
       "    </tr>\n",
       "    <tr>\n",
       "      <th>2</th>\n",
       "      <td>[0.08627450980392157, 0.011764705882352941, 0....</td>\n",
       "      <td>youtube</td>\n",
       "      <td>[0.0, 0.0, 0.0, 0.0, 0.0, 0.0, 0.0, 0.0, 0.0, ...</td>\n",
       "    </tr>\n",
       "    <tr>\n",
       "      <th>3</th>\n",
       "      <td>[0.08627450980392157, 0.011764705882352941, 0....</td>\n",
       "      <td>twitter</td>\n",
       "      <td>[0.0, 0.0, 0.0, 0.0, 0.0, 0.0, 1.0, 0.0, 0.0, ...</td>\n",
       "    </tr>\n",
       "    <tr>\n",
       "      <th>4</th>\n",
       "      <td>[0.08627450980392157, 0.011764705882352941, 0....</td>\n",
       "      <td>unknown</td>\n",
       "      <td>[0.0, 0.0, 0.0, 0.0, 0.0, 0.0, 0.0, 1.0, 0.0, ...</td>\n",
       "    </tr>\n",
       "    <tr>\n",
       "      <th>...</th>\n",
       "      <td>...</td>\n",
       "      <td>...</td>\n",
       "      <td>...</td>\n",
       "    </tr>\n",
       "    <tr>\n",
       "      <th>20628</th>\n",
       "      <td>[0.08627450980392157, 0.011764705882352941, 0....</td>\n",
       "      <td>microsoft</td>\n",
       "      <td>[0.0, 0.0, 0.0, 1.0, 0.0, 0.0, 0.0, 0.0, 0.0, ...</td>\n",
       "    </tr>\n",
       "    <tr>\n",
       "      <th>20629</th>\n",
       "      <td>[0.08627450980392157, 0.011764705882352941, 0....</td>\n",
       "      <td>twitter</td>\n",
       "      <td>[0.0, 0.0, 0.0, 0.0, 0.0, 0.0, 1.0, 0.0, 0.0, ...</td>\n",
       "    </tr>\n",
       "    <tr>\n",
       "      <th>20630</th>\n",
       "      <td>[0.08627450980392157, 0.011764705882352941, 0....</td>\n",
       "      <td>google</td>\n",
       "      <td>[0.0, 0.0, 1.0, 0.0, 0.0, 0.0, 0.0, 0.0, 0.0, ...</td>\n",
       "    </tr>\n",
       "    <tr>\n",
       "      <th>20631</th>\n",
       "      <td>[0.08627450980392157, 0.011764705882352941, 0....</td>\n",
       "      <td>twitter</td>\n",
       "      <td>[0.0, 0.0, 0.0, 0.0, 0.0, 0.0, 1.0, 0.0, 0.0, ...</td>\n",
       "    </tr>\n",
       "    <tr>\n",
       "      <th>20632</th>\n",
       "      <td>[0.08627450980392157, 0.011764705882352941, 0....</td>\n",
       "      <td>twitter</td>\n",
       "      <td>[0.0, 0.0, 0.0, 0.0, 0.0, 0.0, 1.0, 0.0, 0.0, ...</td>\n",
       "    </tr>\n",
       "  </tbody>\n",
       "</table>\n",
       "<p>20630 rows × 3 columns</p>\n",
       "</div>"
      ],
      "text/plain": [
       "                                            udps.n_bytes application  \\\n",
       "0      [0.08627450980392157, 0.011764705882352941, 0....      google   \n",
       "1      [0.08627450980392157, 0.011764705882352941, 0....    facebook   \n",
       "2      [0.08627450980392157, 0.011764705882352941, 0....     youtube   \n",
       "3      [0.08627450980392157, 0.011764705882352941, 0....     twitter   \n",
       "4      [0.08627450980392157, 0.011764705882352941, 0....     unknown   \n",
       "...                                                  ...         ...   \n",
       "20628  [0.08627450980392157, 0.011764705882352941, 0....   microsoft   \n",
       "20629  [0.08627450980392157, 0.011764705882352941, 0....     twitter   \n",
       "20630  [0.08627450980392157, 0.011764705882352941, 0....      google   \n",
       "20631  [0.08627450980392157, 0.011764705882352941, 0....     twitter   \n",
       "20632  [0.08627450980392157, 0.011764705882352941, 0....     twitter   \n",
       "\n",
       "                                         application_ohc  \n",
       "0      [0.0, 0.0, 1.0, 0.0, 0.0, 0.0, 0.0, 0.0, 0.0, ...  \n",
       "1      [0.0, 1.0, 0.0, 0.0, 0.0, 0.0, 0.0, 0.0, 0.0, ...  \n",
       "2      [0.0, 0.0, 0.0, 0.0, 0.0, 0.0, 0.0, 0.0, 0.0, ...  \n",
       "3      [0.0, 0.0, 0.0, 0.0, 0.0, 0.0, 1.0, 0.0, 0.0, ...  \n",
       "4      [0.0, 0.0, 0.0, 0.0, 0.0, 0.0, 0.0, 1.0, 0.0, ...  \n",
       "...                                                  ...  \n",
       "20628  [0.0, 0.0, 0.0, 1.0, 0.0, 0.0, 0.0, 0.0, 0.0, ...  \n",
       "20629  [0.0, 0.0, 0.0, 0.0, 0.0, 0.0, 1.0, 0.0, 0.0, ...  \n",
       "20630  [0.0, 0.0, 1.0, 0.0, 0.0, 0.0, 0.0, 0.0, 0.0, ...  \n",
       "20631  [0.0, 0.0, 0.0, 0.0, 0.0, 0.0, 1.0, 0.0, 0.0, ...  \n",
       "20632  [0.0, 0.0, 0.0, 0.0, 0.0, 0.0, 1.0, 0.0, 0.0, ...  \n",
       "\n",
       "[20630 rows x 3 columns]"
      ]
     },
     "execution_count": 47,
     "metadata": {},
     "output_type": "execute_result"
    }
   ],
   "source": [
    "df = preprocessing(df)\n",
    "df"
   ]
  },
  {
   "cell_type": "code",
   "execution_count": 35,
   "metadata": {},
   "outputs": [],
   "source": [
    "x_train, x_test, y_train, y_test = train_test_split(df['udps.n_bytes'].values, df['application_ohc'].values, \n",
    "    test_size=0.25,\n",
    "    stratify=df['application'].values,\n",
    "    random_state=42)"
   ]
  },
  {
   "cell_type": "code",
   "execution_count": 41,
   "metadata": {},
   "outputs": [
    {
     "name": "stdout",
     "output_type": "stream",
     "text": [
      "784 10\n"
     ]
    }
   ],
   "source": [
    "n_bytes = len(df['udps.n_bytes'].iloc[0])\n",
    "n_classes = len(df['application'].unique())\n",
    "model = M1CNN(payload_size=n_bytes, n_classes=n_classes)\n",
    "print(n_bytes, n_classes)"
   ]
  },
  {
   "cell_type": "code",
   "execution_count": 42,
   "metadata": {},
   "outputs": [
    {
     "name": "stdout",
     "output_type": "stream",
     "text": [
      "Epoch 1/10\n",
      "121/121 - 1s - loss: 0.4947 - accuracy: 0.8383\n",
      "Epoch 2/10\n",
      "121/121 - 1s - loss: 0.1195 - accuracy: 0.9602\n",
      "Epoch 3/10\n",
      "121/121 - 1s - loss: 0.0703 - accuracy: 0.9742\n",
      "Epoch 4/10\n",
      "121/121 - 1s - loss: 0.0520 - accuracy: 0.9799\n",
      "Epoch 5/10\n",
      "121/121 - 1s - loss: 0.0394 - accuracy: 0.9846\n",
      "Epoch 6/10\n",
      "121/121 - 1s - loss: 0.0313 - accuracy: 0.9875\n",
      "Epoch 7/10\n",
      "121/121 - 1s - loss: 0.0297 - accuracy: 0.9881\n",
      "Epoch 8/10\n",
      "121/121 - 1s - loss: 0.0252 - accuracy: 0.9897\n",
      "Epoch 9/10\n",
      "121/121 - 1s - loss: 0.0169 - accuracy: 0.9937\n",
      "Epoch 10/10\n",
      "121/121 - 1s - loss: 0.0152 - accuracy: 0.9946\n"
     ]
    },
    {
     "data": {
      "text/plain": [
       "<tensorflow.python.keras.callbacks.History at 0x1b147419240>"
      ]
     },
     "execution_count": 42,
     "metadata": {},
     "output_type": "execute_result"
    }
   ],
   "source": [
    "epochs = 10\n",
    "batch_size = 128\n",
    "model.compile(\n",
    "    optimizer='adam',\n",
    "    loss='categorical_crossentropy',\n",
    "    metrics=['accuracy']\n",
    ")\n",
    "model.fit(\n",
    "    np.stack(x_train), \n",
    "    np.stack(y_train), \n",
    "    epochs=epochs, \n",
    "    batch_size=batch_size, \n",
    "    use_multiprocessing=True,\n",
    "    workers=4,\n",
    "    verbose=2\n",
    ")"
   ]
  },
  {
   "cell_type": "code",
   "execution_count": 43,
   "metadata": {},
   "outputs": [
    {
     "data": {
      "text/plain": [
       "'              precision    recall  f1-score   support\\n\\n           0       1.00      0.97      0.99        35\\n           1       1.00      0.98      0.99        45\\n           2       0.99      0.99      0.99      1278\\n           3       0.98      1.00      0.99       410\\n           4       0.98      0.95      0.97       103\\n           5       1.00      1.00      1.00        37\\n           6       1.00      1.00      1.00      2610\\n           7       0.97      0.94      0.96       331\\n           8       0.96      0.82      0.88        28\\n           9       0.97      0.98      0.98       281\\n\\n    accuracy                           0.99      5158\\n   macro avg       0.98      0.96      0.97      5158\\nweighted avg       0.99      0.99      0.99      5158\\n'"
      ]
     },
     "execution_count": 43,
     "metadata": {},
     "output_type": "execute_result"
    }
   ],
   "source": [
    "predictions = model.model.predict(np.stack(x_test))\n",
    "predictions = np.argmax(predictions, axis=1)\n",
    "y_test_true = np.argmax(np.stack(y_test), axis=1)\n",
    "\n",
    "report = classification_report(y_test_true, predictions)\n",
    "report"
   ]
  },
  {
   "cell_type": "code",
   "execution_count": 44,
   "metadata": {},
   "outputs": [],
   "source": [
    "with open('m1cnn_boa2016_app_report.txt', \"w+\") as f:\n",
    "    f.write(report)\n"
   ]
  }
 ],
 "metadata": {
  "interpreter": {
   "hash": "8a9681e39844f652d5b4b9546f20ca4205a8167fe914e7d0f37c2626a073f228"
  },
  "kernelspec": {
   "display_name": "Python 3.6.6 64-bit",
   "language": "python",
   "name": "python3"
  },
  "language_info": {
   "codemirror_mode": {
    "name": "ipython",
    "version": 3
   },
   "file_extension": ".py",
   "mimetype": "text/x-python",
   "name": "python",
   "nbconvert_exporter": "python",
   "pygments_lexer": "ipython3",
   "version": "3.6.6"
  },
  "orig_nbformat": 4
 },
 "nbformat": 4,
 "nbformat_minor": 2
}
