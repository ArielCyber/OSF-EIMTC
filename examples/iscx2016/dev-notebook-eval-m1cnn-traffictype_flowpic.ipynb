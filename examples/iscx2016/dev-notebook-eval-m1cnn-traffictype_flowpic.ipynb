{
 "cells": [
  {
   "cell_type": "code",
   "execution_count": 1,
   "metadata": {},
   "outputs": [],
   "source": [
    "import pandas as pd\n",
    "import numpy as np\n",
    "from EIMTC.preprocessing import OneHotEncoderEIMTC, M1CNNPreprocessing\n",
    "from EIMTC.selection import train_test_split\n",
    "from EIMTC.metrics import classification_report\n",
    "from EIMTC.models import M1CNN"
   ]
  },
  {
   "cell_type": "code",
   "execution_count": 2,
   "metadata": {},
   "outputs": [
    {
     "data": {
      "text/html": [
       "<div>\n",
       "<style scoped>\n",
       "    .dataframe tbody tr th:only-of-type {\n",
       "        vertical-align: middle;\n",
       "    }\n",
       "\n",
       "    .dataframe tbody tr th {\n",
       "        vertical-align: top;\n",
       "    }\n",
       "\n",
       "    .dataframe thead th {\n",
       "        text-align: right;\n",
       "    }\n",
       "</style>\n",
       "<table border=\"1\" class=\"dataframe\">\n",
       "  <thead>\n",
       "    <tr style=\"text-align: right;\">\n",
       "      <th></th>\n",
       "      <th>ip_version</th>\n",
       "      <th>udps.n_bytes</th>\n",
       "      <th>encapsulation</th>\n",
       "      <th>traffic_type</th>\n",
       "    </tr>\n",
       "  </thead>\n",
       "  <tbody>\n",
       "    <tr>\n",
       "      <th>0</th>\n",
       "      <td>4</td>\n",
       "      <td>[48, 130, 0, 176, 2, 1, 0, 4, 6, 112, 117, 98,...</td>\n",
       "      <td>nonvpn</td>\n",
       "      <td>chat</td>\n",
       "    </tr>\n",
       "    <tr>\n",
       "      <th>1</th>\n",
       "      <td>4</td>\n",
       "      <td>[23, 3, 3, 0, 36, 0, 0, 0, 0, 0, 0, 0, 10, 138...</td>\n",
       "      <td>nonvpn</td>\n",
       "      <td>chat</td>\n",
       "    </tr>\n",
       "    <tr>\n",
       "      <th>2</th>\n",
       "      <td>4</td>\n",
       "      <td>[22, 3, 1, 0, 181, 1, 0, 0, 177, 3, 3, 252, 61...</td>\n",
       "      <td>nonvpn</td>\n",
       "      <td>chat</td>\n",
       "    </tr>\n",
       "    <tr>\n",
       "      <th>3</th>\n",
       "      <td>4</td>\n",
       "      <td>[23, 3, 3, 0, 36, 0, 0, 0, 0, 0, 0, 0, 16, 80,...</td>\n",
       "      <td>nonvpn</td>\n",
       "      <td>chat</td>\n",
       "    </tr>\n",
       "    <tr>\n",
       "      <th>4</th>\n",
       "      <td>4</td>\n",
       "      <td>[22, 3, 1, 0, 181, 1, 0, 0, 177, 3, 3, 199, 82...</td>\n",
       "      <td>nonvpn</td>\n",
       "      <td>chat</td>\n",
       "    </tr>\n",
       "    <tr>\n",
       "      <th>...</th>\n",
       "      <td>...</td>\n",
       "      <td>...</td>\n",
       "      <td>...</td>\n",
       "      <td>...</td>\n",
       "    </tr>\n",
       "    <tr>\n",
       "      <th>199</th>\n",
       "      <td>4</td>\n",
       "      <td>[68, 111, 53, 57, 142, 157, 210, 145, 236, 72,...</td>\n",
       "      <td>nonvpn</td>\n",
       "      <td>audio</td>\n",
       "    </tr>\n",
       "    <tr>\n",
       "      <th>200</th>\n",
       "      <td>4</td>\n",
       "      <td>[0, 1, 0, 100, 33, 18, 164, 66, 83, 54, 88, 11...</td>\n",
       "      <td>vpn</td>\n",
       "      <td>audio</td>\n",
       "    </tr>\n",
       "    <tr>\n",
       "      <th>201</th>\n",
       "      <td>4</td>\n",
       "      <td>[169, 25, 2, 65, 31, 97, 146, 94, 166, 37, 204...</td>\n",
       "      <td>vpn</td>\n",
       "      <td>audio</td>\n",
       "    </tr>\n",
       "    <tr>\n",
       "      <th>202</th>\n",
       "      <td>4</td>\n",
       "      <td>[169, 25, 2, 65, 31, 97, 146, 94, 166, 37, 204...</td>\n",
       "      <td>vpn</td>\n",
       "      <td>audio</td>\n",
       "    </tr>\n",
       "    <tr>\n",
       "      <th>203</th>\n",
       "      <td>4</td>\n",
       "      <td>[71, 129, 227, 14, 31, 3, 176, 204, 0, 143, 24...</td>\n",
       "      <td>vpn</td>\n",
       "      <td>audio</td>\n",
       "    </tr>\n",
       "  </tbody>\n",
       "</table>\n",
       "<p>204 rows × 4 columns</p>\n",
       "</div>"
      ],
      "text/plain": [
       "     ip_version                                       udps.n_bytes  \\\n",
       "0             4  [48, 130, 0, 176, 2, 1, 0, 4, 6, 112, 117, 98,...   \n",
       "1             4  [23, 3, 3, 0, 36, 0, 0, 0, 0, 0, 0, 0, 10, 138...   \n",
       "2             4  [22, 3, 1, 0, 181, 1, 0, 0, 177, 3, 3, 252, 61...   \n",
       "3             4  [23, 3, 3, 0, 36, 0, 0, 0, 0, 0, 0, 0, 16, 80,...   \n",
       "4             4  [22, 3, 1, 0, 181, 1, 0, 0, 177, 3, 3, 199, 82...   \n",
       "..          ...                                                ...   \n",
       "199           4  [68, 111, 53, 57, 142, 157, 210, 145, 236, 72,...   \n",
       "200           4  [0, 1, 0, 100, 33, 18, 164, 66, 83, 54, 88, 11...   \n",
       "201           4  [169, 25, 2, 65, 31, 97, 146, 94, 166, 37, 204...   \n",
       "202           4  [169, 25, 2, 65, 31, 97, 146, 94, 166, 37, 204...   \n",
       "203           4  [71, 129, 227, 14, 31, 3, 176, 204, 0, 143, 24...   \n",
       "\n",
       "    encapsulation traffic_type  \n",
       "0          nonvpn         chat  \n",
       "1          nonvpn         chat  \n",
       "2          nonvpn         chat  \n",
       "3          nonvpn         chat  \n",
       "4          nonvpn         chat  \n",
       "..            ...          ...  \n",
       "199        nonvpn        audio  \n",
       "200           vpn        audio  \n",
       "201           vpn        audio  \n",
       "202           vpn        audio  \n",
       "203           vpn        audio  \n",
       "\n",
       "[204 rows x 4 columns]"
      ]
     },
     "execution_count": 2,
     "metadata": {},
     "output_type": "execute_result"
    }
   ],
   "source": [
    "filepath = './data/flowpic_selected_flows_merged.csv'\n",
    "df = pd.read_csv(filepath, usecols=['ip_version','udps.n_bytes', 'encapsulation', 'traffic_type'])\n",
    "df"
   ]
  },
  {
   "cell_type": "code",
   "execution_count": 3,
   "metadata": {},
   "outputs": [
    {
     "data": {
      "text/html": [
       "<div>\n",
       "<style scoped>\n",
       "    .dataframe tbody tr th:only-of-type {\n",
       "        vertical-align: middle;\n",
       "    }\n",
       "\n",
       "    .dataframe tbody tr th {\n",
       "        vertical-align: top;\n",
       "    }\n",
       "\n",
       "    .dataframe thead th {\n",
       "        text-align: right;\n",
       "    }\n",
       "</style>\n",
       "<table border=\"1\" class=\"dataframe\">\n",
       "  <thead>\n",
       "    <tr style=\"text-align: right;\">\n",
       "      <th></th>\n",
       "      <th>ip_version</th>\n",
       "      <th>udps.n_bytes</th>\n",
       "      <th>encapsulation</th>\n",
       "      <th>traffic_type</th>\n",
       "    </tr>\n",
       "  </thead>\n",
       "  <tbody>\n",
       "  </tbody>\n",
       "</table>\n",
       "</div>"
      ],
      "text/plain": [
       "Empty DataFrame\n",
       "Columns: [ip_version, udps.n_bytes, encapsulation, traffic_type]\n",
       "Index: []"
      ]
     },
     "execution_count": 3,
     "metadata": {},
     "output_type": "execute_result"
    }
   ],
   "source": [
    "df[df['udps.n_bytes'].isna()]"
   ]
  },
  {
   "cell_type": "code",
   "execution_count": 4,
   "metadata": {},
   "outputs": [],
   "source": [
    "def preprocessing(df):\n",
    "    df = df.dropna()\n",
    "    M1CNNPreprocessing.preprocess_features(dataframe=df)\n",
    "    enc = OneHotEncoderEIMTC()\n",
    "    df['traffic_type_ohc'] = list(enc.fit_transform(df['traffic_type']).toarray())\n",
    "    return df"
   ]
  },
  {
   "cell_type": "code",
   "execution_count": 5,
   "metadata": {},
   "outputs": [
    {
     "data": {
      "text/html": [
       "<div>\n",
       "<style scoped>\n",
       "    .dataframe tbody tr th:only-of-type {\n",
       "        vertical-align: middle;\n",
       "    }\n",
       "\n",
       "    .dataframe tbody tr th {\n",
       "        vertical-align: top;\n",
       "    }\n",
       "\n",
       "    .dataframe thead th {\n",
       "        text-align: right;\n",
       "    }\n",
       "</style>\n",
       "<table border=\"1\" class=\"dataframe\">\n",
       "  <thead>\n",
       "    <tr style=\"text-align: right;\">\n",
       "      <th></th>\n",
       "      <th>ip_version</th>\n",
       "      <th>udps.n_bytes</th>\n",
       "      <th>encapsulation</th>\n",
       "      <th>traffic_type</th>\n",
       "      <th>traffic_type_ohc</th>\n",
       "    </tr>\n",
       "  </thead>\n",
       "  <tbody>\n",
       "    <tr>\n",
       "      <th>0</th>\n",
       "      <td>4</td>\n",
       "      <td>[48, 130, 0, 176, 2, 1, 0, 4, 6, 112, 117, 98,...</td>\n",
       "      <td>nonvpn</td>\n",
       "      <td>chat</td>\n",
       "      <td>[0.0, 1.0, 0.0, 0.0]</td>\n",
       "    </tr>\n",
       "    <tr>\n",
       "      <th>1</th>\n",
       "      <td>4</td>\n",
       "      <td>[23, 3, 3, 0, 36, 0, 0, 0, 0, 0, 0, 0, 10, 138...</td>\n",
       "      <td>nonvpn</td>\n",
       "      <td>chat</td>\n",
       "      <td>[0.0, 1.0, 0.0, 0.0]</td>\n",
       "    </tr>\n",
       "    <tr>\n",
       "      <th>2</th>\n",
       "      <td>4</td>\n",
       "      <td>[22, 3, 1, 0, 181, 1, 0, 0, 177, 3, 3, 252, 61...</td>\n",
       "      <td>nonvpn</td>\n",
       "      <td>chat</td>\n",
       "      <td>[0.0, 1.0, 0.0, 0.0]</td>\n",
       "    </tr>\n",
       "    <tr>\n",
       "      <th>3</th>\n",
       "      <td>4</td>\n",
       "      <td>[23, 3, 3, 0, 36, 0, 0, 0, 0, 0, 0, 0, 16, 80,...</td>\n",
       "      <td>nonvpn</td>\n",
       "      <td>chat</td>\n",
       "      <td>[0.0, 1.0, 0.0, 0.0]</td>\n",
       "    </tr>\n",
       "    <tr>\n",
       "      <th>4</th>\n",
       "      <td>4</td>\n",
       "      <td>[22, 3, 1, 0, 181, 1, 0, 0, 177, 3, 3, 199, 82...</td>\n",
       "      <td>nonvpn</td>\n",
       "      <td>chat</td>\n",
       "      <td>[0.0, 1.0, 0.0, 0.0]</td>\n",
       "    </tr>\n",
       "    <tr>\n",
       "      <th>...</th>\n",
       "      <td>...</td>\n",
       "      <td>...</td>\n",
       "      <td>...</td>\n",
       "      <td>...</td>\n",
       "      <td>...</td>\n",
       "    </tr>\n",
       "    <tr>\n",
       "      <th>199</th>\n",
       "      <td>4</td>\n",
       "      <td>[68, 111, 53, 57, 142, 157, 210, 145, 236, 72,...</td>\n",
       "      <td>nonvpn</td>\n",
       "      <td>audio</td>\n",
       "      <td>[1.0, 0.0, 0.0, 0.0]</td>\n",
       "    </tr>\n",
       "    <tr>\n",
       "      <th>200</th>\n",
       "      <td>4</td>\n",
       "      <td>[0, 1, 0, 100, 33, 18, 164, 66, 83, 54, 88, 11...</td>\n",
       "      <td>vpn</td>\n",
       "      <td>audio</td>\n",
       "      <td>[1.0, 0.0, 0.0, 0.0]</td>\n",
       "    </tr>\n",
       "    <tr>\n",
       "      <th>201</th>\n",
       "      <td>4</td>\n",
       "      <td>[169, 25, 2, 65, 31, 97, 146, 94, 166, 37, 204...</td>\n",
       "      <td>vpn</td>\n",
       "      <td>audio</td>\n",
       "      <td>[1.0, 0.0, 0.0, 0.0]</td>\n",
       "    </tr>\n",
       "    <tr>\n",
       "      <th>202</th>\n",
       "      <td>4</td>\n",
       "      <td>[169, 25, 2, 65, 31, 97, 146, 94, 166, 37, 204...</td>\n",
       "      <td>vpn</td>\n",
       "      <td>audio</td>\n",
       "      <td>[1.0, 0.0, 0.0, 0.0]</td>\n",
       "    </tr>\n",
       "    <tr>\n",
       "      <th>203</th>\n",
       "      <td>4</td>\n",
       "      <td>[71, 129, 227, 14, 31, 3, 176, 204, 0, 143, 24...</td>\n",
       "      <td>vpn</td>\n",
       "      <td>audio</td>\n",
       "      <td>[1.0, 0.0, 0.0, 0.0]</td>\n",
       "    </tr>\n",
       "  </tbody>\n",
       "</table>\n",
       "<p>204 rows × 5 columns</p>\n",
       "</div>"
      ],
      "text/plain": [
       "     ip_version                                       udps.n_bytes  \\\n",
       "0             4  [48, 130, 0, 176, 2, 1, 0, 4, 6, 112, 117, 98,...   \n",
       "1             4  [23, 3, 3, 0, 36, 0, 0, 0, 0, 0, 0, 0, 10, 138...   \n",
       "2             4  [22, 3, 1, 0, 181, 1, 0, 0, 177, 3, 3, 252, 61...   \n",
       "3             4  [23, 3, 3, 0, 36, 0, 0, 0, 0, 0, 0, 0, 16, 80,...   \n",
       "4             4  [22, 3, 1, 0, 181, 1, 0, 0, 177, 3, 3, 199, 82...   \n",
       "..          ...                                                ...   \n",
       "199           4  [68, 111, 53, 57, 142, 157, 210, 145, 236, 72,...   \n",
       "200           4  [0, 1, 0, 100, 33, 18, 164, 66, 83, 54, 88, 11...   \n",
       "201           4  [169, 25, 2, 65, 31, 97, 146, 94, 166, 37, 204...   \n",
       "202           4  [169, 25, 2, 65, 31, 97, 146, 94, 166, 37, 204...   \n",
       "203           4  [71, 129, 227, 14, 31, 3, 176, 204, 0, 143, 24...   \n",
       "\n",
       "    encapsulation traffic_type      traffic_type_ohc  \n",
       "0          nonvpn         chat  [0.0, 1.0, 0.0, 0.0]  \n",
       "1          nonvpn         chat  [0.0, 1.0, 0.0, 0.0]  \n",
       "2          nonvpn         chat  [0.0, 1.0, 0.0, 0.0]  \n",
       "3          nonvpn         chat  [0.0, 1.0, 0.0, 0.0]  \n",
       "4          nonvpn         chat  [0.0, 1.0, 0.0, 0.0]  \n",
       "..            ...          ...                   ...  \n",
       "199        nonvpn        audio  [1.0, 0.0, 0.0, 0.0]  \n",
       "200           vpn        audio  [1.0, 0.0, 0.0, 0.0]  \n",
       "201           vpn        audio  [1.0, 0.0, 0.0, 0.0]  \n",
       "202           vpn        audio  [1.0, 0.0, 0.0, 0.0]  \n",
       "203           vpn        audio  [1.0, 0.0, 0.0, 0.0]  \n",
       "\n",
       "[204 rows x 5 columns]"
      ]
     },
     "execution_count": 5,
     "metadata": {},
     "output_type": "execute_result"
    }
   ],
   "source": [
    "df = preprocessing(df)\n",
    "df"
   ]
  },
  {
   "cell_type": "code",
   "execution_count": 6,
   "metadata": {},
   "outputs": [
    {
     "name": "stdout",
     "output_type": "stream",
     "text": [
      "784 4\n"
     ]
    }
   ],
   "source": [
    "n_bytes = len(df['udps.n_bytes'].iloc[0])\n",
    "n_classes = len(df['traffic_type'].unique())\n",
    "model = M1CNN(payload_size=n_bytes, n_classes=n_classes)\n",
    "print(n_bytes, n_classes)"
   ]
  },
  {
   "cell_type": "code",
   "execution_count": 7,
   "metadata": {},
   "outputs": [],
   "source": [
    "x_train, x_test, y_train, y_test = train_test_split(df['udps.n_bytes'].values, df['traffic_type_ohc'].values, \n",
    "    test_size=0.25,\n",
    "    stratify=df['traffic_type'].values,\n",
    "    random_state=42)"
   ]
  },
  {
   "cell_type": "code",
   "execution_count": 8,
   "metadata": {},
   "outputs": [
    {
     "name": "stdout",
     "output_type": "stream",
     "text": [
      "Epoch 1/10\n",
      "2/2 [==============================] - 21s 66ms/step - loss: 85.3656 - categorical_accuracy: 0.2950 - recall: 0.2950 - precision: 0.2950\n",
      "Epoch 2/10\n",
      "2/2 [==============================] - 0s 17ms/step - loss: 329.3676 - categorical_accuracy: 0.1680 - recall: 0.1680 - precision: 0.1680\n",
      "Epoch 3/10\n",
      "2/2 [==============================] - 0s 31ms/step - loss: 50.6820 - categorical_accuracy: 0.1915 - recall: 0.1915 - precision: 0.1923\n",
      "Epoch 4/10\n",
      "2/2 [==============================] - 0s 16ms/step - loss: 9.2632 - categorical_accuracy: 0.3499 - recall: 0.3499 - precision: 0.3514\n",
      "Epoch 5/10\n",
      "2/2 [==============================] - 0s 16ms/step - loss: 2.9595 - categorical_accuracy: 0.3734 - recall: 0.3055 - precision: 0.3424\n",
      "Epoch 6/10\n",
      "2/2 [==============================] - 0s 31ms/step - loss: 1.9889 - categorical_accuracy: 0.4091 - recall: 0.3821 - precision: 0.4258\n",
      "Epoch 7/10\n",
      "2/2 [==============================] - 0s 16ms/step - loss: 0.9323 - categorical_accuracy: 0.5413 - recall: 0.3960 - precision: 0.8904\n",
      "Epoch 8/10\n",
      "2/2 [==============================] - 3s 16ms/step - loss: 0.8777 - categorical_accuracy: 0.6240 - recall: 0.4056 - precision: 0.9473\n",
      "Epoch 9/10\n",
      "2/2 [==============================] - 0s 9ms/step - loss: 0.8280 - categorical_accuracy: 0.5988 - recall: 0.4186 - precision: 0.9678\n",
      "Epoch 10/10\n",
      "2/2 [==============================] - 0s 16ms/step - loss: 0.7775 - categorical_accuracy: 0.6675 - recall: 0.4508 - precision: 1.0000\n"
     ]
    },
    {
     "data": {
      "text/plain": [
       "<tensorflow.python.keras.callbacks.History at 0x297febb0240>"
      ]
     },
     "execution_count": 8,
     "metadata": {},
     "output_type": "execute_result"
    }
   ],
   "source": [
    "epochs = 10\n",
    "batch_size = 128\n",
    "model.fit(\n",
    "    np.stack(x_train), \n",
    "    np.stack(y_train), \n",
    "    epochs=epochs, \n",
    "    batch_size=batch_size, \n",
    "    use_multiprocessing=True,\n",
    "    workers=4,\n",
    "    verbose=1\n",
    ")"
   ]
  },
  {
   "cell_type": "code",
   "execution_count": 9,
   "metadata": {},
   "outputs": [
    {
     "data": {
      "text/plain": [
       "'              precision    recall  f1-score   support\\n\\n           0       0.50      0.25      0.33         8\\n           1       0.52      0.83      0.64        18\\n           2       1.00      0.47      0.64        15\\n           3       0.55      0.60      0.57        10\\n\\n    accuracy                           0.59        51\\n   macro avg       0.64      0.54      0.54        51\\nweighted avg       0.66      0.59      0.58        51\\n'"
      ]
     },
     "execution_count": 9,
     "metadata": {},
     "output_type": "execute_result"
    }
   ],
   "source": [
    "predictions = model.model.predict(np.stack(x_test))\n",
    "predictions = np.argmax(predictions, axis=1)\n",
    "y_test_true = np.argmax(np.stack(y_test), axis=1)\n",
    "\n",
    "report = classification_report(y_test_true, predictions)\n",
    "report"
   ]
  },
  {
   "cell_type": "code",
   "execution_count": 10,
   "metadata": {},
   "outputs": [],
   "source": [
    "with open('m1cnn_iscx2016flowpic_traffictype_report.txt', \"w+\") as f:\n",
    "    f.write(report)\n"
   ]
  }
 ],
 "metadata": {
  "interpreter": {
   "hash": "2e5c6628eef985e7fd2fa2aad22c988c5b8aa1d2648cf9c51c543a2a2637c546"
  },
  "kernelspec": {
   "display_name": "Python 3.6.6 64-bit",
   "language": "python",
   "name": "python3"
  },
  "language_info": {
   "codemirror_mode": {
    "name": "ipython",
    "version": 3
   },
   "file_extension": ".py",
   "mimetype": "text/x-python",
   "name": "python",
   "nbconvert_exporter": "python",
   "pygments_lexer": "ipython3",
   "version": "3.6.6"
  },
  "orig_nbformat": 4
 },
 "nbformat": 4,
 "nbformat_minor": 2
}
