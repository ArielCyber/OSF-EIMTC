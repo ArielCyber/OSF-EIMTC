{
 "cells": [
  {
   "cell_type": "code",
   "execution_count": 1,
   "metadata": {},
   "outputs": [],
   "source": [
    "import pandas as pd\n",
    "import numpy as np\n",
    "from EIMTC.preprocessing import OneHotEncoderEIMTC, M1CNNPreprocessing\n",
    "from EIMTC.selection import train_test_split\n",
    "from EIMTC.metrics import classification_report\n",
    "from EIMTC.models import M1CNN"
   ]
  },
  {
   "cell_type": "code",
   "execution_count": 2,
   "metadata": {},
   "outputs": [
    {
     "data": {
      "text/html": [
       "<div>\n",
       "<style scoped>\n",
       "    .dataframe tbody tr th:only-of-type {\n",
       "        vertical-align: middle;\n",
       "    }\n",
       "\n",
       "    .dataframe tbody tr th {\n",
       "        vertical-align: top;\n",
       "    }\n",
       "\n",
       "    .dataframe thead th {\n",
       "        text-align: right;\n",
       "    }\n",
       "</style>\n",
       "<table border=\"1\" class=\"dataframe\">\n",
       "  <thead>\n",
       "    <tr style=\"text-align: right;\">\n",
       "      <th></th>\n",
       "      <th>udps.n_bytes</th>\n",
       "      <th>encapsulation</th>\n",
       "      <th>traffic_type</th>\n",
       "    </tr>\n",
       "  </thead>\n",
       "  <tbody>\n",
       "    <tr>\n",
       "      <th>0</th>\n",
       "      <td>[80, 79, 83, 84, 32, 47, 111, 99, 115, 112, 32...</td>\n",
       "      <td>nonvpn</td>\n",
       "      <td>video</td>\n",
       "    </tr>\n",
       "    <tr>\n",
       "      <th>1</th>\n",
       "      <td>[23, 3, 3, 0, 58, 0, 0, 0, 0, 0, 0, 0, 7, 210,...</td>\n",
       "      <td>nonvpn</td>\n",
       "      <td>video</td>\n",
       "    </tr>\n",
       "    <tr>\n",
       "      <th>2</th>\n",
       "      <td>[230, 107, 1, 0, 0, 1, 0, 0, 0, 0, 0, 0, 4, 11...</td>\n",
       "      <td>nonvpn</td>\n",
       "      <td>video</td>\n",
       "    </tr>\n",
       "    <tr>\n",
       "      <th>3</th>\n",
       "      <td>[198, 218, 1, 0, 0, 1, 0, 0, 0, 0, 0, 0, 4, 11...</td>\n",
       "      <td>nonvpn</td>\n",
       "      <td>video</td>\n",
       "    </tr>\n",
       "    <tr>\n",
       "      <th>4</th>\n",
       "      <td>[166, 113, 1, 0, 0, 1, 0, 0, 0, 0, 0, 0, 4, 11...</td>\n",
       "      <td>nonvpn</td>\n",
       "      <td>video</td>\n",
       "    </tr>\n",
       "    <tr>\n",
       "      <th>...</th>\n",
       "      <td>...</td>\n",
       "      <td>...</td>\n",
       "      <td>...</td>\n",
       "    </tr>\n",
       "    <tr>\n",
       "      <th>313862</th>\n",
       "      <td>[43, 100, 1, 0, 0, 1, 0, 0, 0, 0, 0, 0, 1, 115...</td>\n",
       "      <td>nonvpn</td>\n",
       "      <td>video</td>\n",
       "    </tr>\n",
       "    <tr>\n",
       "      <th>313863</th>\n",
       "      <td>[43, 100, 1, 0, 0, 1, 0, 0, 0, 0, 0, 0, 1, 115...</td>\n",
       "      <td>nonvpn</td>\n",
       "      <td>video</td>\n",
       "    </tr>\n",
       "    <tr>\n",
       "      <th>313864</th>\n",
       "      <td>[68, 223, 1, 0, 0, 1, 0, 0, 0, 0, 0, 0, 1, 115...</td>\n",
       "      <td>nonvpn</td>\n",
       "      <td>video</td>\n",
       "    </tr>\n",
       "    <tr>\n",
       "      <th>313865</th>\n",
       "      <td>[68, 223, 1, 0, 0, 1, 0, 0, 0, 0, 0, 0, 1, 115...</td>\n",
       "      <td>nonvpn</td>\n",
       "      <td>video</td>\n",
       "    </tr>\n",
       "    <tr>\n",
       "      <th>313866</th>\n",
       "      <td>[68, 223, 1, 0, 0, 1, 0, 0, 0, 0, 0, 0, 1, 115...</td>\n",
       "      <td>nonvpn</td>\n",
       "      <td>video</td>\n",
       "    </tr>\n",
       "  </tbody>\n",
       "</table>\n",
       "<p>313867 rows × 3 columns</p>\n",
       "</div>"
      ],
      "text/plain": [
       "                                             udps.n_bytes encapsulation  \\\n",
       "0       [80, 79, 83, 84, 32, 47, 111, 99, 115, 112, 32...        nonvpn   \n",
       "1       [23, 3, 3, 0, 58, 0, 0, 0, 0, 0, 0, 0, 7, 210,...        nonvpn   \n",
       "2       [230, 107, 1, 0, 0, 1, 0, 0, 0, 0, 0, 0, 4, 11...        nonvpn   \n",
       "3       [198, 218, 1, 0, 0, 1, 0, 0, 0, 0, 0, 0, 4, 11...        nonvpn   \n",
       "4       [166, 113, 1, 0, 0, 1, 0, 0, 0, 0, 0, 0, 4, 11...        nonvpn   \n",
       "...                                                   ...           ...   \n",
       "313862  [43, 100, 1, 0, 0, 1, 0, 0, 0, 0, 0, 0, 1, 115...        nonvpn   \n",
       "313863  [43, 100, 1, 0, 0, 1, 0, 0, 0, 0, 0, 0, 1, 115...        nonvpn   \n",
       "313864  [68, 223, 1, 0, 0, 1, 0, 0, 0, 0, 0, 0, 1, 115...        nonvpn   \n",
       "313865  [68, 223, 1, 0, 0, 1, 0, 0, 0, 0, 0, 0, 1, 115...        nonvpn   \n",
       "313866  [68, 223, 1, 0, 0, 1, 0, 0, 0, 0, 0, 0, 1, 115...        nonvpn   \n",
       "\n",
       "       traffic_type  \n",
       "0             video  \n",
       "1             video  \n",
       "2             video  \n",
       "3             video  \n",
       "4             video  \n",
       "...             ...  \n",
       "313862        video  \n",
       "313863        video  \n",
       "313864        video  \n",
       "313865        video  \n",
       "313866        video  \n",
       "\n",
       "[313867 rows x 3 columns]"
      ]
     },
     "execution_count": 2,
     "metadata": {},
     "output_type": "execute_result"
    }
   ],
   "source": [
    "filepath = './data/iscx2016_merged.csv'\n",
    "df = pd.read_csv(filepath, usecols=['udps.n_bytes', 'encapsulation', 'traffic_type'])\n",
    "df"
   ]
  },
  {
   "cell_type": "code",
   "execution_count": 3,
   "metadata": {},
   "outputs": [],
   "source": [
    "def preprocessing(df):\n",
    "    df.dropna(inplace=True)\n",
    "    M1CNNPreprocessing.preprocess_features(dataframe=df)\n",
    "    enc = OneHotEncoderEIMTC()\n",
    "    df['encapsulation_ohc'] = list(enc.fit_transform(df['encapsulation']).toarray())\n",
    "    return df"
   ]
  },
  {
   "cell_type": "code",
   "execution_count": 4,
   "metadata": {},
   "outputs": [
    {
     "data": {
      "text/html": [
       "<div>\n",
       "<style scoped>\n",
       "    .dataframe tbody tr th:only-of-type {\n",
       "        vertical-align: middle;\n",
       "    }\n",
       "\n",
       "    .dataframe tbody tr th {\n",
       "        vertical-align: top;\n",
       "    }\n",
       "\n",
       "    .dataframe thead th {\n",
       "        text-align: right;\n",
       "    }\n",
       "</style>\n",
       "<table border=\"1\" class=\"dataframe\">\n",
       "  <thead>\n",
       "    <tr style=\"text-align: right;\">\n",
       "      <th></th>\n",
       "      <th>udps.n_bytes</th>\n",
       "      <th>encapsulation</th>\n",
       "      <th>traffic_type</th>\n",
       "      <th>encapsulation_ohc</th>\n",
       "    </tr>\n",
       "  </thead>\n",
       "  <tbody>\n",
       "    <tr>\n",
       "      <th>0</th>\n",
       "      <td>[80, 79, 83, 84, 32, 47, 111, 99, 115, 112, 32...</td>\n",
       "      <td>nonvpn</td>\n",
       "      <td>video</td>\n",
       "      <td>[1.0, 0.0]</td>\n",
       "    </tr>\n",
       "    <tr>\n",
       "      <th>1</th>\n",
       "      <td>[23, 3, 3, 0, 58, 0, 0, 0, 0, 0, 0, 0, 7, 210,...</td>\n",
       "      <td>nonvpn</td>\n",
       "      <td>video</td>\n",
       "      <td>[1.0, 0.0]</td>\n",
       "    </tr>\n",
       "    <tr>\n",
       "      <th>2</th>\n",
       "      <td>[230, 107, 1, 0, 0, 1, 0, 0, 0, 0, 0, 0, 4, 11...</td>\n",
       "      <td>nonvpn</td>\n",
       "      <td>video</td>\n",
       "      <td>[1.0, 0.0]</td>\n",
       "    </tr>\n",
       "    <tr>\n",
       "      <th>3</th>\n",
       "      <td>[198, 218, 1, 0, 0, 1, 0, 0, 0, 0, 0, 0, 4, 11...</td>\n",
       "      <td>nonvpn</td>\n",
       "      <td>video</td>\n",
       "      <td>[1.0, 0.0]</td>\n",
       "    </tr>\n",
       "    <tr>\n",
       "      <th>4</th>\n",
       "      <td>[166, 113, 1, 0, 0, 1, 0, 0, 0, 0, 0, 0, 4, 11...</td>\n",
       "      <td>nonvpn</td>\n",
       "      <td>video</td>\n",
       "      <td>[1.0, 0.0]</td>\n",
       "    </tr>\n",
       "    <tr>\n",
       "      <th>...</th>\n",
       "      <td>...</td>\n",
       "      <td>...</td>\n",
       "      <td>...</td>\n",
       "      <td>...</td>\n",
       "    </tr>\n",
       "    <tr>\n",
       "      <th>313862</th>\n",
       "      <td>[43, 100, 1, 0, 0, 1, 0, 0, 0, 0, 0, 0, 1, 115...</td>\n",
       "      <td>nonvpn</td>\n",
       "      <td>video</td>\n",
       "      <td>[1.0, 0.0]</td>\n",
       "    </tr>\n",
       "    <tr>\n",
       "      <th>313863</th>\n",
       "      <td>[43, 100, 1, 0, 0, 1, 0, 0, 0, 0, 0, 0, 1, 115...</td>\n",
       "      <td>nonvpn</td>\n",
       "      <td>video</td>\n",
       "      <td>[1.0, 0.0]</td>\n",
       "    </tr>\n",
       "    <tr>\n",
       "      <th>313864</th>\n",
       "      <td>[68, 223, 1, 0, 0, 1, 0, 0, 0, 0, 0, 0, 1, 115...</td>\n",
       "      <td>nonvpn</td>\n",
       "      <td>video</td>\n",
       "      <td>[1.0, 0.0]</td>\n",
       "    </tr>\n",
       "    <tr>\n",
       "      <th>313865</th>\n",
       "      <td>[68, 223, 1, 0, 0, 1, 0, 0, 0, 0, 0, 0, 1, 115...</td>\n",
       "      <td>nonvpn</td>\n",
       "      <td>video</td>\n",
       "      <td>[1.0, 0.0]</td>\n",
       "    </tr>\n",
       "    <tr>\n",
       "      <th>313866</th>\n",
       "      <td>[68, 223, 1, 0, 0, 1, 0, 0, 0, 0, 0, 0, 1, 115...</td>\n",
       "      <td>nonvpn</td>\n",
       "      <td>video</td>\n",
       "      <td>[1.0, 0.0]</td>\n",
       "    </tr>\n",
       "  </tbody>\n",
       "</table>\n",
       "<p>313867 rows × 4 columns</p>\n",
       "</div>"
      ],
      "text/plain": [
       "                                             udps.n_bytes encapsulation  \\\n",
       "0       [80, 79, 83, 84, 32, 47, 111, 99, 115, 112, 32...        nonvpn   \n",
       "1       [23, 3, 3, 0, 58, 0, 0, 0, 0, 0, 0, 0, 7, 210,...        nonvpn   \n",
       "2       [230, 107, 1, 0, 0, 1, 0, 0, 0, 0, 0, 0, 4, 11...        nonvpn   \n",
       "3       [198, 218, 1, 0, 0, 1, 0, 0, 0, 0, 0, 0, 4, 11...        nonvpn   \n",
       "4       [166, 113, 1, 0, 0, 1, 0, 0, 0, 0, 0, 0, 4, 11...        nonvpn   \n",
       "...                                                   ...           ...   \n",
       "313862  [43, 100, 1, 0, 0, 1, 0, 0, 0, 0, 0, 0, 1, 115...        nonvpn   \n",
       "313863  [43, 100, 1, 0, 0, 1, 0, 0, 0, 0, 0, 0, 1, 115...        nonvpn   \n",
       "313864  [68, 223, 1, 0, 0, 1, 0, 0, 0, 0, 0, 0, 1, 115...        nonvpn   \n",
       "313865  [68, 223, 1, 0, 0, 1, 0, 0, 0, 0, 0, 0, 1, 115...        nonvpn   \n",
       "313866  [68, 223, 1, 0, 0, 1, 0, 0, 0, 0, 0, 0, 1, 115...        nonvpn   \n",
       "\n",
       "       traffic_type encapsulation_ohc  \n",
       "0             video        [1.0, 0.0]  \n",
       "1             video        [1.0, 0.0]  \n",
       "2             video        [1.0, 0.0]  \n",
       "3             video        [1.0, 0.0]  \n",
       "4             video        [1.0, 0.0]  \n",
       "...             ...               ...  \n",
       "313862        video        [1.0, 0.0]  \n",
       "313863        video        [1.0, 0.0]  \n",
       "313864        video        [1.0, 0.0]  \n",
       "313865        video        [1.0, 0.0]  \n",
       "313866        video        [1.0, 0.0]  \n",
       "\n",
       "[313867 rows x 4 columns]"
      ]
     },
     "execution_count": 4,
     "metadata": {},
     "output_type": "execute_result"
    }
   ],
   "source": [
    "df = preprocessing(df)\n",
    "df"
   ]
  },
  {
   "cell_type": "code",
   "execution_count": 5,
   "metadata": {},
   "outputs": [
    {
     "name": "stdout",
     "output_type": "stream",
     "text": [
      "784 2\n"
     ]
    }
   ],
   "source": [
    "n_bytes = len(df['udps.n_bytes'].iloc[0])\n",
    "n_classes = len(df['encapsulation'].unique())\n",
    "model = M1CNN(payload_size=n_bytes, n_classes=n_classes)\n",
    "\n",
    "print(n_bytes, n_classes)"
   ]
  },
  {
   "cell_type": "code",
   "execution_count": 6,
   "metadata": {},
   "outputs": [],
   "source": [
    "x_train, x_test, y_train, y_test = train_test_split(df['udps.n_bytes'].values, df['encapsulation_ohc'].values, \n",
    "    test_size=0.25,\n",
    "    stratify=df['encapsulation'].values,\n",
    "    random_state=42)"
   ]
  },
  {
   "cell_type": "code",
   "execution_count": 12,
   "metadata": {},
   "outputs": [
    {
     "name": "stdout",
     "output_type": "stream",
     "text": [
      "Epoch 1/10\n",
      "1840/1840 [==============================] - 132s 69ms/step - loss: 0.4010 - categorical_accuracy: 0.9561 - recall_1: 0.9560 - precision_1: 0.9561: 1:26 - loss: 0.9999 - categorical_accuracy: 0.9469 - recall_1: 0.9465 - precis - ETA: 1 - ETA: 31s - \n",
      "Epoch 2/10\n",
      "1840/1840 [==============================] - 135s 74ms/step - loss: 0.0901 - categorical_accuracy: 0.9633 - recall_1: 0.9633 - precision_1: 0.9633\n",
      "Epoch 3/10\n",
      "1840/1840 [==============================] - 130s 71ms/step - loss: 0.0889 - categorical_accuracy: 0.9653 - recall_1: 0.9653 - precision_1: 0.9653\n",
      "Epoch 4/10\n",
      "1840/1840 [==============================] - 114s 62ms/step - loss: 0.0744 - categorical_accuracy: 0.9755 - recall_1: 0.9755 - precision_1: 0.975512s - loss: 0.0749 - categorical_ac\n",
      "Epoch 5/10\n",
      "1840/1840 [==============================] - 132s 72ms/step - loss: 0.0588 - categorical_accuracy: 0.9827 - recall_1: 0.9827 - precision_1: 0.982711s - loss: 0.0589 - categorical_accuracy: 0.982\n",
      "Epoch 6/10\n",
      "1840/1840 [==============================] - 136s 74ms/step - loss: 0.0555 - categorical_accuracy: 0.9845 - recall_1: 0.9845 - precision_1: 0.9845\n",
      "Epoch 7/10\n",
      "1840/1840 [==============================] - 127s 69ms/step - loss: 0.0573 - categorical_accuracy: 0.9841 - recall_1: 0.9841 - precision_1: 0.98413s - loss: 0.0573 - categorical_accuracy: 0.9841 - recall_1: 0.9841 - preci\n",
      "Epoch 8/10\n",
      "1840/1840 [==============================] - 131s 71ms/step - loss: 0.0522 - categorical_accuracy: 0.9857 - recall_1: 0.9857 - precision_1: 0.985711s - loss: 0.0521 - categorical_accuracy: 0.9\n",
      "Epoch 9/10\n",
      "1840/1840 [==============================] - 132s 72ms/step - loss: 0.0514 - categorical_accuracy: 0.9862 - recall_1: 0.9862 - precision_1: 0.9862\n",
      "Epoch 10/10\n",
      "1840/1840 [==============================] - 131s 71ms/step - loss: 0.0504 - categorical_accuracy: 0.9865 - recall_1: 0.9865 - precision_1: 0.9865\n"
     ]
    },
    {
     "data": {
      "text/plain": [
       "<tensorflow.python.keras.callbacks.History at 0x1f8454c1390>"
      ]
     },
     "execution_count": 12,
     "metadata": {},
     "output_type": "execute_result"
    }
   ],
   "source": [
    "epochs = 10\n",
    "batch_size = 128\n",
    "model.compile(\n",
    "    optimizer='adam',\n",
    "    loss='categorical_crossentropy'\n",
    ")\n",
    "model.fit(\n",
    "    np.stack(x_train), \n",
    "    np.stack(y_train), \n",
    "    epochs=epochs, \n",
    "    batch_size=batch_size, \n",
    "    use_multiprocessing=True,\n",
    "    workers=4,\n",
    "    verbose=1\n",
    ")"
   ]
  },
  {
   "cell_type": "code",
   "execution_count": 13,
   "metadata": {},
   "outputs": [
    {
     "data": {
      "text/plain": [
       "'              precision    recall  f1-score   support\\n\\n           0       0.99      1.00      0.99     73830\\n           1       0.92      0.83      0.87      4637\\n\\n    accuracy                           0.99     78467\\n   macro avg       0.96      0.91      0.93     78467\\nweighted avg       0.99      0.99      0.99     78467\\n'"
      ]
     },
     "execution_count": 13,
     "metadata": {},
     "output_type": "execute_result"
    }
   ],
   "source": [
    "predictions = model.model.predict(np.stack(x_test))\n",
    "predictions = np.argmax(predictions, axis=1)\n",
    "y_test_true = np.argmax(np.stack(y_test), axis=1)\n",
    "\n",
    "report = classification_report(y_test_true, predictions)\n",
    "report"
   ]
  },
  {
   "cell_type": "code",
   "execution_count": 14,
   "metadata": {},
   "outputs": [],
   "source": [
    "with open('m1cnn_iscx2016_encaps_report.txt', \"w+\") as f:\n",
    "    f.write(report)\n"
   ]
  }
 ],
 "metadata": {
  "interpreter": {
   "hash": "8a9681e39844f652d5b4b9546f20ca4205a8167fe914e7d0f37c2626a073f228"
  },
  "kernelspec": {
   "display_name": "Python 3.6.6 64-bit",
   "language": "python",
   "name": "python3"
  },
  "language_info": {
   "codemirror_mode": {
    "name": "ipython",
    "version": 3
   },
   "file_extension": ".py",
   "mimetype": "text/x-python",
   "name": "python",
   "nbconvert_exporter": "python",
   "pygments_lexer": "ipython3",
   "version": "3.6.6"
  },
  "orig_nbformat": 4
 },
 "nbformat": 4,
 "nbformat_minor": 2
}
