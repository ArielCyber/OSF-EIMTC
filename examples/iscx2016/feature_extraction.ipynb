{
 "cells": [
  {
   "cell_type": "code",
   "execution_count": null,
   "metadata": {},
   "outputs": [],
   "source": [
    "from EIMTC.extractor import Extractor\n",
    "from EIMTC.plugins.protocol_header_fields import ProtocolHeaderFields\n",
    "from EIMTC.plugins.stnn import STNN\n",
    "from EIMTC.plugins.n_pkts_byte_freq import NPacketsByteFrequency\n",
    "from EIMTC.plugins.n_bytes import NBytes\n",
    "from EIMTC.plugins.pkt_rel_time import PacketRelativeTime\n",
    "from EIMTC.plugins.clump_flows import Clump_Flow\n",
    "from EIMTC.plugins.res_req_diff_time import ResReqDiffTime\n",
    "import glob\n",
    "from pathlib import Path"
   ]
  },
  {
   "cell_type": "code",
   "execution_count": null,
   "metadata": {},
   "outputs": [],
   "source": [
    "files = glob.glob('./data/pcaps/**/*.pcap')\n",
    "files"
   ]
  },
  {
   "cell_type": "code",
   "execution_count": null,
   "metadata": {},
   "outputs": [],
   "source": [
    "ext = Extractor(\n",
    "    output_dirpath='./data/',\n",
    "    custom_plugin_package=[\n",
    "        ProtocolHeaderFields(n_packets=32), # Lopez\n",
    "        NBytes(n=784), # wang\n",
    "        STNN(n_packets=32),\n",
    "        NPacketsByteFrequency(n_first_packets=6),\n",
    "        PacketRelativeTime(),\n",
    "        ResReqDiffTime(),\n",
    "        Clump_Flow(),\n",
    "    ],\n",
    "    TLS=True\n",
    ")\n",
    "ext"
   ]
  },
  {
   "cell_type": "code",
   "execution_count": null,
   "metadata": {},
   "outputs": [],
   "source": [
    "def extract_labels(filename):\n",
    "    type_mapping = {\n",
    "        'chat': ['aim_chat', 'aimchat', 'icq_chat','icqchat', 'skype_chat', 'facebook_chat', 'facebookchat', 'gmailchat' , 'hangout_chat', 'hangouts_chat'],\n",
    "        'email': ['email'],\n",
    "        'audio': ['facebook_audio', 'hangouts_audio', 'skype_audio', 'spotify', 'voip'],\n",
    "        'video': ['facebook_video', 'hangouts_video', 'netflix', 'skype_video', 'vimeo', 'youtube'],\n",
    "        'filetransfer': ['ftps' ,'scp', 'sftp', 'skype_file'],\n",
    "        'p2p': ['bittorrent', 'torrent']\n",
    "    }\n",
    "    \n",
    "    app_list = ['skype', 'facebook', 'voipbuster', 'youtube', 'vimeo', 'bitorrent', 'ftps', 'scp', 'sftp', 'hangout', 'netflix', 'spotify', 'aim', 'icq', 'gmail', 'email', 'torrent']\n",
    "    \n",
    "    \n",
    "    traffic_type = None\n",
    "    for k,v in type_mapping.items():\n",
    "        for t in v:\n",
    "            if t in filename.lower():\n",
    "                traffic_type = k\n",
    "            \n",
    "    app = None\n",
    "    for a in app_list:\n",
    "        if a in filename.lower():\n",
    "            app = a\n",
    "    \n",
    "    encapsulation = None   \n",
    "    if 'vpn' in filename:\n",
    "        encapsulation = 'vpn'\n",
    "            \n",
    "    return (encapsulation, traffic_type, app)\n"
   ]
  },
  {
   "cell_type": "code",
   "execution_count": null,
   "metadata": {},
   "outputs": [],
   "source": [
    "def custom_filepath_based_labelling(filepath):\n",
    "    '''\n",
    "    returns: dictionary of label's name/type as key and the label as value.\n",
    "    '''\n",
    "    filename = Path(filepath).stem\n",
    "    labels = extract_labels(filename)\n",
    "    label_names = ['encapsulation', 'traffic_type', 'application']\n",
    "    return dict(\n",
    "        zip(label_names, labels)\n",
    "    )\n",
    "    \n",
    "# tests\n",
    "assert custom_filepath_based_labelling('vpnyoutube') == {'encapsulation': 'vpn', 'traffic_type': 'video', 'application': 'youtube'} \n"
   ]
  },
  {
   "cell_type": "code",
   "execution_count": null,
   "metadata": {},
   "outputs": [],
   "source": [
    "ext.extract_many(files, labelling_method=custom_filepath_based_labelling)"
   ]
  }
 ],
 "metadata": {
  "interpreter": {
   "hash": "3edd0662b2d180a75d988edaa86084869b12c31e5a254bfd8ee578ed215f9587"
  },
  "kernelspec": {
   "display_name": "Python 3.6.7 64-bit",
   "language": "python",
   "name": "python3"
  },
  "language_info": {
   "codemirror_mode": {
    "name": "ipython",
    "version": 3
   },
   "file_extension": ".py",
   "mimetype": "text/x-python",
   "name": "python",
   "nbconvert_exporter": "python",
   "pygments_lexer": "ipython3",
   "version": "3.6.7"
  },
  "orig_nbformat": 4
 },
 "nbformat": 4,
 "nbformat_minor": 2
}
