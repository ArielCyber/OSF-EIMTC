{
 "cells": [
  {
   "cell_type": "code",
   "execution_count": 1,
   "metadata": {},
   "outputs": [],
   "source": [
    "import pandas as pd\n",
    "import numpy as np\n",
    "from EIMTC.preprocessing import OneHotEncoderEIMTC, M1CNNPreprocessing\n",
    "from EIMTC.selection import train_test_split\n",
    "from EIMTC.metrics import classification_report\n",
    "from EIMTC.models import M1CNN"
   ]
  },
  {
   "cell_type": "code",
   "execution_count": 2,
   "metadata": {},
   "outputs": [
    {
     "data": {
      "text/html": [
       "<div>\n",
       "<style scoped>\n",
       "    .dataframe tbody tr th:only-of-type {\n",
       "        vertical-align: middle;\n",
       "    }\n",
       "\n",
       "    .dataframe tbody tr th {\n",
       "        vertical-align: top;\n",
       "    }\n",
       "\n",
       "    .dataframe thead th {\n",
       "        text-align: right;\n",
       "    }\n",
       "</style>\n",
       "<table border=\"1\" class=\"dataframe\">\n",
       "  <thead>\n",
       "    <tr style=\"text-align: right;\">\n",
       "      <th></th>\n",
       "      <th>udps.n_bytes</th>\n",
       "      <th>encapsulation</th>\n",
       "      <th>traffic_type</th>\n",
       "    </tr>\n",
       "  </thead>\n",
       "  <tbody>\n",
       "    <tr>\n",
       "      <th>0</th>\n",
       "      <td>[48, 130, 0, 176, 2, 1, 0, 4, 6, 112, 117, 98,...</td>\n",
       "      <td>nonvpn</td>\n",
       "      <td>chat</td>\n",
       "    </tr>\n",
       "    <tr>\n",
       "      <th>1</th>\n",
       "      <td>[23, 3, 3, 0, 36, 0, 0, 0, 0, 0, 0, 0, 10, 138...</td>\n",
       "      <td>nonvpn</td>\n",
       "      <td>chat</td>\n",
       "    </tr>\n",
       "    <tr>\n",
       "      <th>2</th>\n",
       "      <td>[22, 3, 1, 0, 181, 1, 0, 0, 177, 3, 3, 252, 61...</td>\n",
       "      <td>nonvpn</td>\n",
       "      <td>chat</td>\n",
       "    </tr>\n",
       "    <tr>\n",
       "      <th>3</th>\n",
       "      <td>[23, 3, 3, 0, 36, 0, 0, 0, 0, 0, 0, 0, 16, 80,...</td>\n",
       "      <td>nonvpn</td>\n",
       "      <td>chat</td>\n",
       "    </tr>\n",
       "    <tr>\n",
       "      <th>4</th>\n",
       "      <td>[22, 3, 1, 0, 181, 1, 0, 0, 177, 3, 3, 199, 82...</td>\n",
       "      <td>nonvpn</td>\n",
       "      <td>chat</td>\n",
       "    </tr>\n",
       "    <tr>\n",
       "      <th>...</th>\n",
       "      <td>...</td>\n",
       "      <td>...</td>\n",
       "      <td>...</td>\n",
       "    </tr>\n",
       "    <tr>\n",
       "      <th>199</th>\n",
       "      <td>[68, 111, 53, 57, 142, 157, 210, 145, 236, 72,...</td>\n",
       "      <td>nonvpn</td>\n",
       "      <td>audio</td>\n",
       "    </tr>\n",
       "    <tr>\n",
       "      <th>200</th>\n",
       "      <td>[0, 1, 0, 100, 33, 18, 164, 66, 83, 54, 88, 11...</td>\n",
       "      <td>vpn</td>\n",
       "      <td>audio</td>\n",
       "    </tr>\n",
       "    <tr>\n",
       "      <th>201</th>\n",
       "      <td>[169, 25, 2, 65, 31, 97, 146, 94, 166, 37, 204...</td>\n",
       "      <td>vpn</td>\n",
       "      <td>audio</td>\n",
       "    </tr>\n",
       "    <tr>\n",
       "      <th>202</th>\n",
       "      <td>[169, 25, 2, 65, 31, 97, 146, 94, 166, 37, 204...</td>\n",
       "      <td>vpn</td>\n",
       "      <td>audio</td>\n",
       "    </tr>\n",
       "    <tr>\n",
       "      <th>203</th>\n",
       "      <td>[71, 129, 227, 14, 31, 3, 176, 204, 0, 143, 24...</td>\n",
       "      <td>vpn</td>\n",
       "      <td>audio</td>\n",
       "    </tr>\n",
       "  </tbody>\n",
       "</table>\n",
       "<p>204 rows × 3 columns</p>\n",
       "</div>"
      ],
      "text/plain": [
       "                                          udps.n_bytes encapsulation  \\\n",
       "0    [48, 130, 0, 176, 2, 1, 0, 4, 6, 112, 117, 98,...        nonvpn   \n",
       "1    [23, 3, 3, 0, 36, 0, 0, 0, 0, 0, 0, 0, 10, 138...        nonvpn   \n",
       "2    [22, 3, 1, 0, 181, 1, 0, 0, 177, 3, 3, 252, 61...        nonvpn   \n",
       "3    [23, 3, 3, 0, 36, 0, 0, 0, 0, 0, 0, 0, 16, 80,...        nonvpn   \n",
       "4    [22, 3, 1, 0, 181, 1, 0, 0, 177, 3, 3, 199, 82...        nonvpn   \n",
       "..                                                 ...           ...   \n",
       "199  [68, 111, 53, 57, 142, 157, 210, 145, 236, 72,...        nonvpn   \n",
       "200  [0, 1, 0, 100, 33, 18, 164, 66, 83, 54, 88, 11...           vpn   \n",
       "201  [169, 25, 2, 65, 31, 97, 146, 94, 166, 37, 204...           vpn   \n",
       "202  [169, 25, 2, 65, 31, 97, 146, 94, 166, 37, 204...           vpn   \n",
       "203  [71, 129, 227, 14, 31, 3, 176, 204, 0, 143, 24...           vpn   \n",
       "\n",
       "    traffic_type  \n",
       "0           chat  \n",
       "1           chat  \n",
       "2           chat  \n",
       "3           chat  \n",
       "4           chat  \n",
       "..           ...  \n",
       "199        audio  \n",
       "200        audio  \n",
       "201        audio  \n",
       "202        audio  \n",
       "203        audio  \n",
       "\n",
       "[204 rows x 3 columns]"
      ]
     },
     "execution_count": 2,
     "metadata": {},
     "output_type": "execute_result"
    }
   ],
   "source": [
    "filepath = './data/flowpic_selected_flows_merged.csv'\n",
    "df = pd.read_csv(filepath, usecols=['udps.n_bytes', 'encapsulation', 'traffic_type'])\n",
    "df"
   ]
  },
  {
   "cell_type": "code",
   "execution_count": 3,
   "metadata": {},
   "outputs": [],
   "source": [
    "def preprocessing(df):\n",
    "    df.dropna(inplace=True)\n",
    "    M1CNNPreprocessing.preprocess_features(dataframe=df)\n",
    "    enc = OneHotEncoderEIMTC()\n",
    "    df['encapsulation_ohc'] = list(enc.fit_transform(df['encapsulation']).toarray())\n",
    "    return df"
   ]
  },
  {
   "cell_type": "code",
   "execution_count": 4,
   "metadata": {},
   "outputs": [
    {
     "data": {
      "text/html": [
       "<div>\n",
       "<style scoped>\n",
       "    .dataframe tbody tr th:only-of-type {\n",
       "        vertical-align: middle;\n",
       "    }\n",
       "\n",
       "    .dataframe tbody tr th {\n",
       "        vertical-align: top;\n",
       "    }\n",
       "\n",
       "    .dataframe thead th {\n",
       "        text-align: right;\n",
       "    }\n",
       "</style>\n",
       "<table border=\"1\" class=\"dataframe\">\n",
       "  <thead>\n",
       "    <tr style=\"text-align: right;\">\n",
       "      <th></th>\n",
       "      <th>udps.n_bytes</th>\n",
       "      <th>encapsulation</th>\n",
       "      <th>traffic_type</th>\n",
       "      <th>encapsulation_ohc</th>\n",
       "    </tr>\n",
       "  </thead>\n",
       "  <tbody>\n",
       "    <tr>\n",
       "      <th>0</th>\n",
       "      <td>[48, 130, 0, 176, 2, 1, 0, 4, 6, 112, 117, 98,...</td>\n",
       "      <td>nonvpn</td>\n",
       "      <td>chat</td>\n",
       "      <td>[1.0, 0.0]</td>\n",
       "    </tr>\n",
       "    <tr>\n",
       "      <th>1</th>\n",
       "      <td>[23, 3, 3, 0, 36, 0, 0, 0, 0, 0, 0, 0, 10, 138...</td>\n",
       "      <td>nonvpn</td>\n",
       "      <td>chat</td>\n",
       "      <td>[1.0, 0.0]</td>\n",
       "    </tr>\n",
       "    <tr>\n",
       "      <th>2</th>\n",
       "      <td>[22, 3, 1, 0, 181, 1, 0, 0, 177, 3, 3, 252, 61...</td>\n",
       "      <td>nonvpn</td>\n",
       "      <td>chat</td>\n",
       "      <td>[1.0, 0.0]</td>\n",
       "    </tr>\n",
       "    <tr>\n",
       "      <th>3</th>\n",
       "      <td>[23, 3, 3, 0, 36, 0, 0, 0, 0, 0, 0, 0, 16, 80,...</td>\n",
       "      <td>nonvpn</td>\n",
       "      <td>chat</td>\n",
       "      <td>[1.0, 0.0]</td>\n",
       "    </tr>\n",
       "    <tr>\n",
       "      <th>4</th>\n",
       "      <td>[22, 3, 1, 0, 181, 1, 0, 0, 177, 3, 3, 199, 82...</td>\n",
       "      <td>nonvpn</td>\n",
       "      <td>chat</td>\n",
       "      <td>[1.0, 0.0]</td>\n",
       "    </tr>\n",
       "    <tr>\n",
       "      <th>...</th>\n",
       "      <td>...</td>\n",
       "      <td>...</td>\n",
       "      <td>...</td>\n",
       "      <td>...</td>\n",
       "    </tr>\n",
       "    <tr>\n",
       "      <th>199</th>\n",
       "      <td>[68, 111, 53, 57, 142, 157, 210, 145, 236, 72,...</td>\n",
       "      <td>nonvpn</td>\n",
       "      <td>audio</td>\n",
       "      <td>[1.0, 0.0]</td>\n",
       "    </tr>\n",
       "    <tr>\n",
       "      <th>200</th>\n",
       "      <td>[0, 1, 0, 100, 33, 18, 164, 66, 83, 54, 88, 11...</td>\n",
       "      <td>vpn</td>\n",
       "      <td>audio</td>\n",
       "      <td>[0.0, 1.0]</td>\n",
       "    </tr>\n",
       "    <tr>\n",
       "      <th>201</th>\n",
       "      <td>[169, 25, 2, 65, 31, 97, 146, 94, 166, 37, 204...</td>\n",
       "      <td>vpn</td>\n",
       "      <td>audio</td>\n",
       "      <td>[0.0, 1.0]</td>\n",
       "    </tr>\n",
       "    <tr>\n",
       "      <th>202</th>\n",
       "      <td>[169, 25, 2, 65, 31, 97, 146, 94, 166, 37, 204...</td>\n",
       "      <td>vpn</td>\n",
       "      <td>audio</td>\n",
       "      <td>[0.0, 1.0]</td>\n",
       "    </tr>\n",
       "    <tr>\n",
       "      <th>203</th>\n",
       "      <td>[71, 129, 227, 14, 31, 3, 176, 204, 0, 143, 24...</td>\n",
       "      <td>vpn</td>\n",
       "      <td>audio</td>\n",
       "      <td>[0.0, 1.0]</td>\n",
       "    </tr>\n",
       "  </tbody>\n",
       "</table>\n",
       "<p>204 rows × 4 columns</p>\n",
       "</div>"
      ],
      "text/plain": [
       "                                          udps.n_bytes encapsulation  \\\n",
       "0    [48, 130, 0, 176, 2, 1, 0, 4, 6, 112, 117, 98,...        nonvpn   \n",
       "1    [23, 3, 3, 0, 36, 0, 0, 0, 0, 0, 0, 0, 10, 138...        nonvpn   \n",
       "2    [22, 3, 1, 0, 181, 1, 0, 0, 177, 3, 3, 252, 61...        nonvpn   \n",
       "3    [23, 3, 3, 0, 36, 0, 0, 0, 0, 0, 0, 0, 16, 80,...        nonvpn   \n",
       "4    [22, 3, 1, 0, 181, 1, 0, 0, 177, 3, 3, 199, 82...        nonvpn   \n",
       "..                                                 ...           ...   \n",
       "199  [68, 111, 53, 57, 142, 157, 210, 145, 236, 72,...        nonvpn   \n",
       "200  [0, 1, 0, 100, 33, 18, 164, 66, 83, 54, 88, 11...           vpn   \n",
       "201  [169, 25, 2, 65, 31, 97, 146, 94, 166, 37, 204...           vpn   \n",
       "202  [169, 25, 2, 65, 31, 97, 146, 94, 166, 37, 204...           vpn   \n",
       "203  [71, 129, 227, 14, 31, 3, 176, 204, 0, 143, 24...           vpn   \n",
       "\n",
       "    traffic_type encapsulation_ohc  \n",
       "0           chat        [1.0, 0.0]  \n",
       "1           chat        [1.0, 0.0]  \n",
       "2           chat        [1.0, 0.0]  \n",
       "3           chat        [1.0, 0.0]  \n",
       "4           chat        [1.0, 0.0]  \n",
       "..           ...               ...  \n",
       "199        audio        [1.0, 0.0]  \n",
       "200        audio        [0.0, 1.0]  \n",
       "201        audio        [0.0, 1.0]  \n",
       "202        audio        [0.0, 1.0]  \n",
       "203        audio        [0.0, 1.0]  \n",
       "\n",
       "[204 rows x 4 columns]"
      ]
     },
     "execution_count": 4,
     "metadata": {},
     "output_type": "execute_result"
    }
   ],
   "source": [
    "df = preprocessing(df)\n",
    "df"
   ]
  },
  {
   "cell_type": "code",
   "execution_count": 6,
   "metadata": {},
   "outputs": [
    {
     "name": "stdout",
     "output_type": "stream",
     "text": [
      "784 2\n"
     ]
    }
   ],
   "source": [
    "n_bytes = len(df['udps.n_bytes'].iloc[0])\n",
    "n_classes = len(df['encapsulation'].unique())\n",
    "model = M1CNN(payload_size=n_bytes, n_classes=n_classes)\n",
    "print(n_bytes, n_classes)"
   ]
  },
  {
   "cell_type": "code",
   "execution_count": 7,
   "metadata": {},
   "outputs": [],
   "source": [
    "from tensorflow.keras.losses import CategoricalCrossentropy\n",
    "model.compile(\n",
    "    optimizer='adam',\n",
    "    loss=CategoricalCrossentropy()\n",
    ")"
   ]
  },
  {
   "cell_type": "code",
   "execution_count": 8,
   "metadata": {},
   "outputs": [],
   "source": [
    "x_train, x_test, y_train, y_test = train_test_split(df['udps.n_bytes'].values, df['encapsulation_ohc'].values, \n",
    "    test_size=0.25,\n",
    "    stratify=df['encapsulation'].values,\n",
    "    random_state=42)"
   ]
  },
  {
   "cell_type": "code",
   "execution_count": 9,
   "metadata": {},
   "outputs": [
    {
     "name": "stdout",
     "output_type": "stream",
     "text": [
      "Epoch 1/10\n",
      "2/2 [==============================] - 28s 73ms/step - loss: 67.0880\n",
      "Epoch 2/10\n",
      "2/2 [==============================] - 0s 9ms/step - loss: 217.9472\n",
      "Epoch 3/10\n",
      "2/2 [==============================] - 0s 7ms/step - loss: 9.6047\n",
      "Epoch 4/10\n",
      "2/2 [==============================] - 0s 0s/step - loss: 1.5330\n",
      "Epoch 5/10\n",
      "2/2 [==============================] - 0s 16ms/step - loss: 0.5647\n",
      "Epoch 6/10\n",
      "2/2 [==============================] - 0s 16ms/step - loss: 0.4938\n",
      "Epoch 7/10\n",
      "2/2 [==============================] - 0s 0s/step - loss: 0.4467\n",
      "Epoch 8/10\n",
      "2/2 [==============================] - 0s 16ms/step - loss: 0.4713\n",
      "Epoch 9/10\n",
      "2/2 [==============================] - 0s 16ms/step - loss: 0.4620\n",
      "Epoch 10/10\n",
      "2/2 [==============================] - 0s 10ms/step - loss: 0.4308\n"
     ]
    },
    {
     "data": {
      "text/plain": [
       "<tensorflow.python.keras.callbacks.History at 0x276099076a0>"
      ]
     },
     "execution_count": 9,
     "metadata": {},
     "output_type": "execute_result"
    }
   ],
   "source": [
    "epochs = 10\n",
    "batch_size = 128\n",
    "model.fit(\n",
    "    np.stack(x_train), \n",
    "    np.stack(y_train), \n",
    "    epochs=epochs, \n",
    "    batch_size=batch_size, \n",
    "    use_multiprocessing=True,\n",
    "    workers=4,\n",
    "    verbose=1\n",
    ")"
   ]
  },
  {
   "cell_type": "code",
   "execution_count": 10,
   "metadata": {},
   "outputs": [
    {
     "data": {
      "text/plain": [
       "'              precision    recall  f1-score   support\\n\\n           0       0.71      0.69      0.70        29\\n           1       0.61      0.64      0.62        22\\n\\n    accuracy                           0.67        51\\n   macro avg       0.66      0.66      0.66        51\\nweighted avg       0.67      0.67      0.67        51\\n'"
      ]
     },
     "execution_count": 10,
     "metadata": {},
     "output_type": "execute_result"
    }
   ],
   "source": [
    "predictions = model.model.predict(np.stack(x_test))\n",
    "predictions = np.argmax(predictions, axis=1)\n",
    "y_test_true = np.argmax(np.stack(y_test), axis=1)\n",
    "\n",
    "report = classification_report(y_test_true, predictions)\n",
    "report"
   ]
  },
  {
   "cell_type": "code",
   "execution_count": 9,
   "metadata": {},
   "outputs": [],
   "source": [
    "with open('m1cnn_iscx2016flowpic_encaps_report.txt', \"w+\") as f:\n",
    "    f.write(report)\n"
   ]
  }
 ],
 "metadata": {
  "interpreter": {
   "hash": "8a9681e39844f652d5b4b9546f20ca4205a8167fe914e7d0f37c2626a073f228"
  },
  "kernelspec": {
   "display_name": "Python 3.6.6 64-bit",
   "language": "python",
   "name": "python3"
  },
  "language_info": {
   "codemirror_mode": {
    "name": "ipython",
    "version": 3
   },
   "file_extension": ".py",
   "mimetype": "text/x-python",
   "name": "python",
   "nbconvert_exporter": "python",
   "pygments_lexer": "ipython3",
   "version": "3.6.6"
  },
  "orig_nbformat": 4
 },
 "nbformat": 4,
 "nbformat_minor": 2
}
